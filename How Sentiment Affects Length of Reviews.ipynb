{
 "cells": [
  {
   "cell_type": "markdown",
   "id": "d21b3315-4119-49d9-8309-1965cf964f0c",
   "metadata": {},
   "source": [
    "## Selecting a Review Dataset\n",
    "\n",
    "To begin our sentiment analysis, we need a dataset that contains a large number of text reviews spanning multiple categories or topics.\n"
   ]
  },
  {
   "cell_type": "code",
   "execution_count": 1,
   "id": "aecb4246-e304-4c40-bf8b-d418f58bf335",
   "metadata": {},
   "outputs": [
    {
     "name": "stdout",
     "output_type": "stream",
     "text": [
      "                                         instruction  \\\n",
      "0  extract Aspect-Category-Opinion-Sentiment Quad...   \n",
      "1  extract Aspect-Category-Opinion-Sentiment Quad...   \n",
      "2  extract Aspect-Category-Opinion-Sentiment Quad...   \n",
      "3  extract Aspect-Category-Opinion-Sentiment Quad...   \n",
      "4  extract Aspect-Category-Opinion-Sentiment Quad...   \n",
      "\n",
      "                                               input  \\\n",
      "0  judging from previous posts this used to be a ...   \n",
      "1  we , there were four of us , arrived at noon -...   \n",
      "2  they never brought us complimentary noodles , ...   \n",
      "3  the food was lousy - too sweet or too salty an...   \n",
      "4  after all that , they complained to me about t...   \n",
      "\n",
      "                                              output  \n",
      "0  (['place'], RESTAURANT#GENERAL, negative, ['no...  \n",
      "1   (['staff'], SERVICE#GENERAL, negative, ['rude'])  \n",
      "2            (None, SERVICE#GENERAL, negative, None)  \n",
      "3  (['food'], FOOD#QUALITY, negative, ['lousy']);...  \n",
      "4  (None, SERVICE#GENERAL, negative, ['complained'])  \n"
     ]
    }
   ],
   "source": [
    "from datasets import load_dataset\n",
    "import pandas as pd\n",
    "\n",
    "# Load the dataset from Hugging Face\n",
    "dataset = load_dataset(\"yuncongli/chat-sentiment-analysis\")\n",
    "\n",
    "# Convert to pandas DataFrame\n",
    "df = pd.DataFrame(dataset['train']) \n",
    "\n",
    "# Preview\n",
    "print(df.head(5))"
   ]
  },
  {
   "cell_type": "markdown",
   "id": "85a25912-0778-4f58-8ea8-2420c2530110",
   "metadata": {},
   "source": [
    "## Dataset Overview\n",
    "\n",
    "This dataset, sourced from Hugging Face, contains a variety of reviews across multiple domains including restaurants, technology, holidays/hotels, etc. Its diverse content makes it well-suited for robust sentiment analysis across different topics.\n"
   ]
  },
  {
   "cell_type": "code",
   "execution_count": 2,
   "id": "b0a0d06f-146c-4e34-87d4-84d22054d599",
   "metadata": {},
   "outputs": [
    {
     "data": {
      "text/plain": [
       "28772"
      ]
     },
     "execution_count": 2,
     "metadata": {},
     "output_type": "execute_result"
    }
   ],
   "source": [
    "# Row count\n",
    "df.shape[0] "
   ]
  },
  {
   "cell_type": "code",
   "execution_count": 3,
   "id": "38f3ef3c-27ca-4824-a91c-b68edaef6c6e",
   "metadata": {},
   "outputs": [],
   "source": [
    "# Drop rows with duplicate inputs\n",
    "df.drop_duplicates(subset=['input'], inplace=True)"
   ]
  },
  {
   "cell_type": "code",
   "execution_count": 4,
   "id": "378c8641-6cf9-4b8a-a92a-3b3ceca300c0",
   "metadata": {},
   "outputs": [
    {
     "data": {
      "text/plain": [
       "11082"
      ]
     },
     "execution_count": 4,
     "metadata": {},
     "output_type": "execute_result"
    }
   ],
   "source": [
    "df.shape[0]"
   ]
  },
  {
   "cell_type": "code",
   "execution_count": 5,
   "id": "064ad998-1dc1-4ae3-8305-8f68950f3882",
   "metadata": {},
   "outputs": [
    {
     "data": {
      "text/plain": [
       "array(['extract Aspect-Category-Opinion-Sentiment Quadruple from the sentence',\n",
       "       'detect aspect categories from the sentence',\n",
       "       'extract holder-target-Opinion-Sentiment Quadruple from the sentence',\n",
       "       'extract aspect terms from the sentence'], dtype=object)"
      ]
     },
     "execution_count": 5,
     "metadata": {},
     "output_type": "execute_result"
    }
   ],
   "source": [
    "df['instruction'].unique()"
   ]
  },
  {
   "cell_type": "code",
   "execution_count": 6,
   "id": "8b75663b-d57d-48af-99c8-d13bcdcf8ada",
   "metadata": {},
   "outputs": [
    {
     "data": {
      "text/plain": [
       "instruction\n",
       "extract aspect terms from the sentence                                   4823\n",
       "detect aspect categories from the sentence                               3034\n",
       "extract holder-target-Opinion-Sentiment Quadruple from the sentence      1699\n",
       "extract Aspect-Category-Opinion-Sentiment Quadruple from the sentence    1526\n",
       "Name: count, dtype: int64"
      ]
     },
     "execution_count": 6,
     "metadata": {},
     "output_type": "execute_result"
    }
   ],
   "source": [
    "df['instruction'].value_counts()"
   ]
  },
  {
   "cell_type": "markdown",
   "id": "76f23efe-4eea-4c73-9faf-8da95bdbccfe",
   "metadata": {},
   "source": [
    "## Sentiment Labelling Strategy\n",
    "\n",
    "Many rows in the dataset currently lack an explicit sentiment label in the `output` column. To address this, we will split the dataset into two parts:\n",
    "\n",
    "1. **Rule-Based Sentiment Extraction**  \n",
    "   This subset includes rows where we can extract a sentiment label (`positive`, `negative`, or `neutral`) directly from the `output` using keyword matching.\n",
    "\n",
    "2. **Model-Based Sentiment Prediction**  \n",
    "   This subset includes rows without a clearly identifiable sentiment. For these, we will use a sentiment analysis API to assign sentiment labels.\n",
    "\n",
    "After labeling both subsets, we will merge them back into a single DataFrame and proceed with exploratory analysis and comparison.\n"
   ]
  },
  {
   "cell_type": "code",
   "execution_count": 7,
   "id": "1ce1123a-d18e-43ab-8c8b-dc7a6cd00a33",
   "metadata": {},
   "outputs": [],
   "source": [
    "# Create new DataFrame from rows not containing a sentiment in the output\n",
    "df_hf = df[df['instruction'].isin([\n",
    "    'detect aspect categories from the sentence',\n",
    "    'extract aspect terms from the sentence',\n",
    "])]\n",
    "\n",
    "# Select additional rows to add\n",
    "df_no_tuples = df[\n",
    "    (df['instruction'] == 'extract holder-target-Opinion-Sentiment Quadruple from the sentence') &\n",
    "    (df['output'].str.strip().str.lower() == 'there are no tuples')\n",
    "]\n",
    "\n",
    "# Append to df_hf\n",
    "df_hf = pd.concat([df_hf, df_no_tuples], ignore_index=True)"
   ]
  },
  {
   "cell_type": "code",
   "execution_count": 8,
   "id": "2be714ae-05e5-4355-9e49-8398d51bb0ed",
   "metadata": {},
   "outputs": [
    {
     "data": {
      "text/plain": [
       "8190"
      ]
     },
     "execution_count": 8,
     "metadata": {},
     "output_type": "execute_result"
    }
   ],
   "source": [
    "df_hf.shape[0]"
   ]
  },
  {
   "cell_type": "code",
   "execution_count": 9,
   "id": "92a31b0b-1a16-4b2e-ab33-89d686e414b5",
   "metadata": {},
   "outputs": [],
   "source": [
    "# Create new DataFrame from rows containing a sentiment in the output\n",
    "df_fine = df[\n",
    "    (df['instruction'].isin([\n",
    "        'extract holder-target-Opinion-Sentiment Quadruple from the sentence',\n",
    "        'extract Aspect-Category-Opinion-Sentiment Quadruple from the sentence',\n",
    "    ])) &\n",
    "    ~(\n",
    "        (df['instruction'] == 'extract holder-target-Opinion-Sentiment Quadruple from the sentence') &\n",
    "        (df['output'].str.strip().str.lower() == 'there are no tuples')\n",
    "    )\n",
    "]"
   ]
  },
  {
   "cell_type": "code",
   "execution_count": 10,
   "id": "b5109aee-ff8d-43c0-ab34-52d12a437208",
   "metadata": {},
   "outputs": [
    {
     "data": {
      "text/plain": [
       "2892"
      ]
     },
     "execution_count": 10,
     "metadata": {},
     "output_type": "execute_result"
    }
   ],
   "source": [
    "df_fine.shape[0]"
   ]
  },
  {
   "cell_type": "code",
   "execution_count": 11,
   "id": "4a5e956d-005e-419a-8775-a4cbfd3ac503",
   "metadata": {},
   "outputs": [
    {
     "name": "stdout",
     "output_type": "stream",
     "text": [
      "3692\n",
      "1508\n",
      "95\n"
     ]
    }
   ],
   "source": [
    "# Sentiment counts in the output of df_fine \n",
    "positive_count = df_fine['output'].str.count(r'(?i)\\bpositive\\b').sum()\n",
    "negative_count = df_fine['output'].str.count(r'(?i)\\bnegative\\b').sum()\n",
    "neutral_count  = df_fine['output'].str.count(r'(?i)\\bneutral\\b').sum()\n",
    "\n",
    "print(positive_count)\n",
    "print(negative_count)\n",
    "print(neutral_count)"
   ]
  },
  {
   "cell_type": "code",
   "execution_count": 12,
   "id": "cb39f253-8c65-4add-a629-697f22d32f90",
   "metadata": {},
   "outputs": [],
   "source": [
    "import re\n",
    "\n",
    "# Simple rule-based sentiment scorer based on keyword frequency\n",
    "def sentiment_score(text):\n",
    "    text = text.lower()  # Convert text to lowercase for consistent matching\n",
    "    \n",
    "    # Count occurrences of each keyword\n",
    "    pos = len(re.findall(r'\\bpositive\\b', text))\n",
    "    neg = len(re.findall(r'\\bnegative\\b', text))\n",
    "    score = pos - neg\n",
    "\n",
    "    # Return sentiment category based on score\n",
    "    if score > 0:\n",
    "        return 'positive'\n",
    "    elif score < 0:\n",
    "        return 'negative'\n",
    "    else:\n",
    "        return 'neutral'\n",
    "\n",
    "# Apply sentiment scoring to the 'output' column\n",
    "df_fine = df_fine.copy()\n",
    "df_fine['predicted_sentiment'] = df_fine['output'].apply(sentiment_score)\n"
   ]
  },
  {
   "cell_type": "code",
   "execution_count": 13,
   "id": "1d4d656c-75d9-452b-ae60-725920eefda4",
   "metadata": {},
   "outputs": [
    {
     "name": "stdout",
     "output_type": "stream",
     "text": [
      "Positive: 1911\n",
      "Negative: 805\n",
      "Neutral: 176\n"
     ]
    }
   ],
   "source": [
    "positive_count = (df_fine['predicted_sentiment'].str.lower() == 'positive').sum()\n",
    "negative_count = (df_fine['predicted_sentiment'].str.lower() == 'negative').sum()\n",
    "neutral_count  = (df_fine['predicted_sentiment'].str.lower() == 'neutral').sum()\n",
    "\n",
    "print(f\"Positive: {positive_count}\")\n",
    "print(f\"Negative: {negative_count}\")\n",
    "print(f\"Neutral: {neutral_count}\")"
   ]
  },
  {
   "cell_type": "code",
   "execution_count": 14,
   "id": "d2d281cd-aef7-4bbe-8144-d816464d0343",
   "metadata": {},
   "outputs": [
    {
     "data": {
      "text/html": [
       "<div>\n",
       "<style scoped>\n",
       "    .dataframe tbody tr th:only-of-type {\n",
       "        vertical-align: middle;\n",
       "    }\n",
       "\n",
       "    .dataframe tbody tr th {\n",
       "        vertical-align: top;\n",
       "    }\n",
       "\n",
       "    .dataframe thead th {\n",
       "        text-align: right;\n",
       "    }\n",
       "</style>\n",
       "<table border=\"1\" class=\"dataframe\">\n",
       "  <thead>\n",
       "    <tr style=\"text-align: right;\">\n",
       "      <th></th>\n",
       "      <th>instruction</th>\n",
       "      <th>input</th>\n",
       "      <th>output</th>\n",
       "    </tr>\n",
       "  </thead>\n",
       "  <tbody>\n",
       "    <tr>\n",
       "      <th>0</th>\n",
       "      <td>detect aspect categories from the sentence</td>\n",
       "      <td>But the staff was so horrible to us.</td>\n",
       "      <td>service</td>\n",
       "    </tr>\n",
       "    <tr>\n",
       "      <th>1</th>\n",
       "      <td>detect aspect categories from the sentence</td>\n",
       "      <td>To be completely fair, the only redeeming fact...</td>\n",
       "      <td>food,anecdotes/miscellaneous</td>\n",
       "    </tr>\n",
       "    <tr>\n",
       "      <th>2</th>\n",
       "      <td>detect aspect categories from the sentence</td>\n",
       "      <td>The food is uniformly exceptional, with a very...</td>\n",
       "      <td>food</td>\n",
       "    </tr>\n",
       "    <tr>\n",
       "      <th>3</th>\n",
       "      <td>detect aspect categories from the sentence</td>\n",
       "      <td>Where Gabriela personaly greets you and recomm...</td>\n",
       "      <td>service</td>\n",
       "    </tr>\n",
       "    <tr>\n",
       "      <th>4</th>\n",
       "      <td>detect aspect categories from the sentence</td>\n",
       "      <td>For those that go once and don't enjoy it, all...</td>\n",
       "      <td>anecdotes/miscellaneous</td>\n",
       "    </tr>\n",
       "  </tbody>\n",
       "</table>\n",
       "</div>"
      ],
      "text/plain": [
       "                                  instruction  \\\n",
       "0  detect aspect categories from the sentence   \n",
       "1  detect aspect categories from the sentence   \n",
       "2  detect aspect categories from the sentence   \n",
       "3  detect aspect categories from the sentence   \n",
       "4  detect aspect categories from the sentence   \n",
       "\n",
       "                                               input  \\\n",
       "0               But the staff was so horrible to us.   \n",
       "1  To be completely fair, the only redeeming fact...   \n",
       "2  The food is uniformly exceptional, with a very...   \n",
       "3  Where Gabriela personaly greets you and recomm...   \n",
       "4  For those that go once and don't enjoy it, all...   \n",
       "\n",
       "                         output  \n",
       "0                       service  \n",
       "1  food,anecdotes/miscellaneous  \n",
       "2                          food  \n",
       "3                       service  \n",
       "4       anecdotes/miscellaneous  "
      ]
     },
     "execution_count": 14,
     "metadata": {},
     "output_type": "execute_result"
    }
   ],
   "source": [
    "df_hf.head(5)"
   ]
  },
  {
   "cell_type": "code",
   "execution_count": 15,
   "id": "47845dc7-fea5-43ea-9c6a-dccb7511c2ab",
   "metadata": {},
   "outputs": [
    {
     "name": "stderr",
     "output_type": "stream",
     "text": [
      "Device set to use cuda:0\n",
      "You seem to be using the pipelines sequentially on GPU. In order to maximize efficiency please use a dataset\n"
     ]
    }
   ],
   "source": [
    "from transformers import pipeline\n",
    "\n",
    "# Load 3-class sentiment model, force PyTorch only\n",
    "sentiment_analyzer = pipeline(\n",
    "    \"sentiment-analysis\",\n",
    "    model=\"cardiffnlp/twitter-roberta-base-sentiment\",\n",
    "    framework=\"pt\",  # Forces PyTorch (avoids TensorFlow/Keras issues)\n",
    "    device=0 # Use GPU instead of CPU\n",
    ")\n",
    "\n",
    "# Map model output labels to human-readable ones\n",
    "label_map = {\n",
    "    'LABEL_0': 'negative',\n",
    "    'LABEL_1': 'neutral',\n",
    "    'LABEL_2': 'positive'\n",
    "}\n",
    "\n",
    "# Apply to dataframe\n",
    "df_hf['predicted_sentiment'] = df_hf['input'].apply(\n",
    "    lambda x: label_map[sentiment_analyzer(x)[0]['label']]\n",
    ")"
   ]
  },
  {
   "cell_type": "code",
   "execution_count": 16,
   "id": "2baf0e8f-bad7-4d21-bced-3464aef05e97",
   "metadata": {},
   "outputs": [
    {
     "data": {
      "text/html": [
       "<div>\n",
       "<style scoped>\n",
       "    .dataframe tbody tr th:only-of-type {\n",
       "        vertical-align: middle;\n",
       "    }\n",
       "\n",
       "    .dataframe tbody tr th {\n",
       "        vertical-align: top;\n",
       "    }\n",
       "\n",
       "    .dataframe thead th {\n",
       "        text-align: right;\n",
       "    }\n",
       "</style>\n",
       "<table border=\"1\" class=\"dataframe\">\n",
       "  <thead>\n",
       "    <tr style=\"text-align: right;\">\n",
       "      <th></th>\n",
       "      <th>instruction</th>\n",
       "      <th>input</th>\n",
       "      <th>output</th>\n",
       "      <th>predicted_sentiment</th>\n",
       "    </tr>\n",
       "  </thead>\n",
       "  <tbody>\n",
       "    <tr>\n",
       "      <th>0</th>\n",
       "      <td>detect aspect categories from the sentence</td>\n",
       "      <td>But the staff was so horrible to us.</td>\n",
       "      <td>service</td>\n",
       "      <td>negative</td>\n",
       "    </tr>\n",
       "    <tr>\n",
       "      <th>1</th>\n",
       "      <td>detect aspect categories from the sentence</td>\n",
       "      <td>To be completely fair, the only redeeming fact...</td>\n",
       "      <td>food,anecdotes/miscellaneous</td>\n",
       "      <td>neutral</td>\n",
       "    </tr>\n",
       "    <tr>\n",
       "      <th>2</th>\n",
       "      <td>detect aspect categories from the sentence</td>\n",
       "      <td>The food is uniformly exceptional, with a very...</td>\n",
       "      <td>food</td>\n",
       "      <td>positive</td>\n",
       "    </tr>\n",
       "    <tr>\n",
       "      <th>3</th>\n",
       "      <td>detect aspect categories from the sentence</td>\n",
       "      <td>Where Gabriela personaly greets you and recomm...</td>\n",
       "      <td>service</td>\n",
       "      <td>neutral</td>\n",
       "    </tr>\n",
       "    <tr>\n",
       "      <th>4</th>\n",
       "      <td>detect aspect categories from the sentence</td>\n",
       "      <td>For those that go once and don't enjoy it, all...</td>\n",
       "      <td>anecdotes/miscellaneous</td>\n",
       "      <td>negative</td>\n",
       "    </tr>\n",
       "  </tbody>\n",
       "</table>\n",
       "</div>"
      ],
      "text/plain": [
       "                                  instruction  \\\n",
       "0  detect aspect categories from the sentence   \n",
       "1  detect aspect categories from the sentence   \n",
       "2  detect aspect categories from the sentence   \n",
       "3  detect aspect categories from the sentence   \n",
       "4  detect aspect categories from the sentence   \n",
       "\n",
       "                                               input  \\\n",
       "0               But the staff was so horrible to us.   \n",
       "1  To be completely fair, the only redeeming fact...   \n",
       "2  The food is uniformly exceptional, with a very...   \n",
       "3  Where Gabriela personaly greets you and recomm...   \n",
       "4  For those that go once and don't enjoy it, all...   \n",
       "\n",
       "                         output predicted_sentiment  \n",
       "0                       service            negative  \n",
       "1  food,anecdotes/miscellaneous             neutral  \n",
       "2                          food            positive  \n",
       "3                       service             neutral  \n",
       "4       anecdotes/miscellaneous            negative  "
      ]
     },
     "execution_count": 16,
     "metadata": {},
     "output_type": "execute_result"
    }
   ],
   "source": [
    "df_hf.head(5)"
   ]
  },
  {
   "cell_type": "code",
   "execution_count": 17,
   "id": "468d835d-2fdf-453d-b2d5-9d43f0483889",
   "metadata": {},
   "outputs": [
    {
     "data": {
      "text/plain": [
       "predicted_sentiment\n",
       "positive    3976\n",
       "neutral     2349\n",
       "negative    1865\n",
       "Name: count, dtype: int64"
      ]
     },
     "execution_count": 17,
     "metadata": {},
     "output_type": "execute_result"
    }
   ],
   "source": [
    "df_hf['predicted_sentiment'].value_counts()"
   ]
  },
  {
   "cell_type": "code",
   "execution_count": 18,
   "id": "5b97210a-ab61-4ec8-9c29-4f6d7e1dee90",
   "metadata": {},
   "outputs": [],
   "source": [
    "# Concatenate vertically\n",
    "df_combined = pd.concat([df_hf, df_fine], ignore_index=True)"
   ]
  },
  {
   "cell_type": "code",
   "execution_count": 19,
   "id": "d6802b70-f33a-48a3-968a-f77d187c6dea",
   "metadata": {},
   "outputs": [
    {
     "data": {
      "text/plain": [
       "11082"
      ]
     },
     "execution_count": 19,
     "metadata": {},
     "output_type": "execute_result"
    }
   ],
   "source": [
    "df_combined.shape[0]"
   ]
  },
  {
   "cell_type": "code",
   "execution_count": 20,
   "id": "7e4b477f-1d96-4bac-a637-c4b8b0f25008",
   "metadata": {},
   "outputs": [
    {
     "data": {
      "text/plain": [
       "predicted_sentiment\n",
       "positive    5887\n",
       "negative    2670\n",
       "neutral     2525\n",
       "Name: count, dtype: int64"
      ]
     },
     "execution_count": 20,
     "metadata": {},
     "output_type": "execute_result"
    }
   ],
   "source": [
    "df_combined['predicted_sentiment'].value_counts()"
   ]
  },
  {
   "cell_type": "code",
   "execution_count": 21,
   "id": "aab3ccf2-95bc-4cc3-a4c3-c98d89a8224f",
   "metadata": {},
   "outputs": [
    {
     "data": {
      "text/plain": [
       "predicted_sentiment\n",
       "positive    53.122180\n",
       "negative    24.093124\n",
       "neutral     22.784696\n",
       "Name: proportion, dtype: float64"
      ]
     },
     "execution_count": 21,
     "metadata": {},
     "output_type": "execute_result"
    }
   ],
   "source": [
    "# Sentiment percentages\n",
    "df_combined['predicted_sentiment'].value_counts(normalize=True) * 100"
   ]
  },
  {
   "cell_type": "markdown",
   "id": "5e3b7a2d-cb15-4dda-b419-baedca47c4da",
   "metadata": {},
   "source": [
    "## Sentiment Distribution and Review Length Analysis\n",
    "\n",
    "Out of over 11,000 reviews, the sentiment distribution is as follows:\n",
    "\n",
    "- **Positive:** 53.1%  \n",
    "- **Negative:** 24.1%  \n",
    "- **Neutral:** 22.8%\n",
    "\n",
    "As you can see, the majority of the reviews are positive, while the number of neutral and negative reviews is noticeably lower and relatively similar. This suggests a generally favourable sentiment across the dataset.\n",
    "\n",
    "Now, we will use a variety of plots to explore the relationship between input length (word count of the review) and sentiment category. This will help us understand how the length of the reviews varies across positive, neutral, and negative sentiments.\n"
   ]
  },
  {
   "cell_type": "code",
   "execution_count": 22,
   "id": "3633ff07-6ca7-4539-8d6e-1e0c8e1a18a4",
   "metadata": {},
   "outputs": [
    {
     "data": {
      "image/png": "[encoded data removed]",
      "text/plain": [
       "<Figure size 1200x600 with 1 Axes>"
      ]
     },
     "metadata": {},
     "output_type": "display_data"
    }
   ],
   "source": [
    "import matplotlib.pyplot as plt\n",
    "import seaborn as sns\n",
    "\n",
    "# Compute input length (word count)\n",
    "df_combined['input_length'] = df_combined['input'].str.split().apply(len)\n",
    "\n",
    "\n",
    "plt.figure(figsize=(12, 6))\n",
    "\n",
    "# Plot each sentiment group \n",
    "sns.histplot(\n",
    "    data=df_combined[df_combined['predicted_sentiment'] == 'positive'],\n",
    "    x='input_length',\n",
    "    color='green',\n",
    "    label='Positive',\n",
    "    bins=30,\n",
    "    kde=True,\n",
    "    alpha=0.2 # Transparency\n",
    ")\n",
    "\n",
    "sns.histplot(\n",
    "    data=df_combined[df_combined['predicted_sentiment'] == 'neutral'],\n",
    "    x='input_length',\n",
    "    color='blue',\n",
    "    label='Neutral',\n",
    "    bins=30,\n",
    "    kde=True,\n",
    "    alpha=0.9\n",
    ")\n",
    "\n",
    "sns.histplot(\n",
    "    data=df_combined[df_combined['predicted_sentiment'] == 'negative'],\n",
    "    x='input_length',\n",
    "    color='red',\n",
    "    label='Negative',\n",
    "    bins=30,\n",
    "    kde=True,\n",
    "    alpha=0.3\n",
    ")\n",
    "\n",
    "# Formatting\n",
    "plt.title('Distribution of Input Lengths by Predicted Sentiment')\n",
    "plt.xlabel('Input Length (word count)')\n",
    "plt.ylabel('Frequency')\n",
    "plt.legend()\n",
    "plt.grid(True)\n",
    "plt.tight_layout()\n",
    "plt.show()\n"
   ]
  },
  {
   "cell_type": "markdown",
   "id": "6156e91d-c363-46cb-bbb9-6101899a4611",
   "metadata": {},
   "source": [
    "From the plot above, we observe that the word count distribution of reviews is quite similar across the different sentiment categories and appears to resemble a gamma distribution, characterised by its right skew.\n",
    "\n",
    "Next, let's visualise the data using a boxplot to better understand the distribution of review lengths within each sentiment category.\n"
   ]
  },
  {
   "cell_type": "code",
   "execution_count": 23,
   "id": "7d5f6fe6-0f70-4c72-a596-13985ad1d9c0",
   "metadata": {},
   "outputs": [
    {
     "name": "stderr",
     "output_type": "stream",
     "text": [
      "C:\\Users\\the3s\\AppData\\Local\\Temp\\ipykernel_19796\\2061267234.py:2: FutureWarning: \n",
      "\n",
      "Passing `palette` without assigning `hue` is deprecated and will be removed in v0.14.0. Assign the `x` variable to `hue` and set `legend=False` for the same effect.\n",
      "\n",
      "  sns.boxplot(\n"
     ]
    },
    {
     "data": {
      "image/png": "[encoded data removed]",
      "text/plain": [
       "<Figure size 1000x600 with 1 Axes>"
      ]
     },
     "metadata": {},
     "output_type": "display_data"
    }
   ],
   "source": [
    "plt.figure(figsize=(10, 6))\n",
    "sns.boxplot(\n",
    "    data=df_combined, \n",
    "    x='predicted_sentiment', \n",
    "    y='input_length', \n",
    "    palette={'positive': 'green', 'neutral': 'blue', 'negative': 'red'}\n",
    ")\n",
    "plt.title('Input Length Distribution by Predicted Sentiment')\n",
    "plt.xlabel('Predicted Sentiment')\n",
    "plt.ylabel('Input Length (word count)')\n",
    "plt.grid(True)\n",
    "plt.show()"
   ]
  },
  {
   "cell_type": "markdown",
   "id": "a4ea2641-ea45-4d22-b5c4-0b0448e51188",
   "metadata": {},
   "source": [
    "Let's remove outliers from the boxplot to improve readability and focus on the main distribution of review lengths within each sentiment category."
   ]
  },
  {
   "cell_type": "code",
   "execution_count": 24,
   "id": "c06e402d-e8fa-4eab-8194-8fcd3736d940",
   "metadata": {},
   "outputs": [
    {
     "name": "stdout",
     "output_type": "stream",
     "text": [
      "Outlier counts by sentiment:\n",
      "negative: 79 outliers\n",
      "neutral: 70 outliers\n",
      "positive: 170 outliers\n"
     ]
    }
   ],
   "source": [
    "# Initialise a dictionary to store the number of outliers for each sentiment group\n",
    "outlier_counts = {}\n",
    "\n",
    "# Group the DataFrame by 'predicted_sentiment' and iterate over each group\n",
    "for sentiment, group in df_combined.groupby('predicted_sentiment'):\n",
    "    q1 = group['input_length'].quantile(0.25)\n",
    "    q3 = group['input_length'].quantile(0.75)\n",
    "    iqr = q3 - q1\n",
    "    lower_bound = q1 - 1.5 * iqr # Define outlier bounds\n",
    "    upper_bound = q3 + 1.5 * iqr\n",
    "\n",
    "    outliers = group[(group['input_length'] < lower_bound) | (group['input_length'] > upper_bound)] # Identify outliers\n",
    "    outlier_counts[sentiment] = len(outliers) # Store the count of outliers for the current sentiment group\n",
    "\n",
    "print(\"Outlier counts by sentiment:\")\n",
    "for sentiment, count in outlier_counts.items():\n",
    "    print(f\"{sentiment}: {count} outliers\")"
   ]
  },
  {
   "cell_type": "markdown",
   "id": "5e4e39f1-68b5-4679-919d-dda4288c9ba6",
   "metadata": {},
   "source": [
    "This outlier count is unsurprising, as all categories have similar variance and distribution shapes, so the number of outliers roughly scales with the difference in category size."
   ]
  },
  {
   "cell_type": "code",
   "execution_count": 25,
   "id": "3a77ba6b-9b8b-4880-a635-59dba4c6cc22",
   "metadata": {},
   "outputs": [
    {
     "name": "stderr",
     "output_type": "stream",
     "text": [
      "C:\\Users\\the3s\\AppData\\Local\\Temp\\ipykernel_19796\\1793601415.py:11: DeprecationWarning: DataFrameGroupBy.apply operated on the grouping columns. This behavior is deprecated, and in a future version of pandas the grouping columns will be excluded from the operation. Either pass `include_groups=False` to exclude the groupings or explicitly select the grouping columns after groupby to silence this warning.\n",
      "  df_no_outliers = df_combined.groupby('predicted_sentiment', group_keys=False).apply(is_outlier)\n",
      "C:\\Users\\the3s\\AppData\\Local\\Temp\\ipykernel_19796\\1793601415.py:15: FutureWarning: \n",
      "\n",
      "Passing `palette` without assigning `hue` is deprecated and will be removed in v0.14.0. Assign the `x` variable to `hue` and set `legend=False` for the same effect.\n",
      "\n",
      "  sns.boxplot(data=df_no_outliers, x='predicted_sentiment', y='input_length', palette={'positive': 'green', 'neutral': 'blue', 'negative': 'red'})\n"
     ]
    },
    {
     "data": {
      "image/png": "[encoded data removed]",
      "text/plain": [
       "<Figure size 1200x600 with 1 Axes>"
      ]
     },
     "metadata": {},
     "output_type": "display_data"
    }
   ],
   "source": [
    "# Define a function to remove outliers from each group based on the IQR method\n",
    "def is_outlier(group):\n",
    "    q1 = group['input_length'].quantile(0.25)\n",
    "    q3 = group['input_length'].quantile(0.75)\n",
    "    iqr = q3 - q1\n",
    "    lower = q1 - 1.5 * iqr\n",
    "    upper = q3 + 1.5 * iqr\n",
    "    # Return only rows where 'input_length' is within the non-outlier range\n",
    "    return group[(group['input_length'] >= lower) & (group['input_length'] <= upper)]\n",
    "\n",
    "df_no_outliers = df_combined.groupby('predicted_sentiment', group_keys=False).apply(is_outlier)\n",
    "\n",
    "# Replot boxplot without outliers\n",
    "plt.figure(figsize=(12, 6))\n",
    "sns.boxplot(data=df_no_outliers, x='predicted_sentiment', y='input_length', palette={'positive': 'green', 'neutral': 'blue', 'negative': 'red'})\n",
    "plt.title('Input Length Distribution by Sentiment (Outliers Removed)')\n",
    "plt.xlabel('Predicted Sentiment')\n",
    "plt.ylabel('Input Length (word count)')\n",
    "plt.grid(True)\n",
    "plt.show()\n"
   ]
  },
  {
   "cell_type": "markdown",
   "id": "4bf38538-d941-4285-84a6-d217f69ffa83",
   "metadata": {},
   "source": [
    "Once again, we observe that the distributions are relatively similar across the sentiment groups. Negative reviews tend to be slightly longer than the others by a few words on average. The empirical cumulative distribution function (ECDF) plot below also shows this."
   ]
  },
  {
   "cell_type": "code",
   "execution_count": 26,
   "id": "ba37bee3-3d27-4483-aadb-1d2db3424461",
   "metadata": {},
   "outputs": [
    {
     "data": {
      "image/png": "[encoded data removed]",
      "text/plain": [
       "<Figure size 1200x600 with 1 Axes>"
      ]
     },
     "metadata": {},
     "output_type": "display_data"
    }
   ],
   "source": [
    "plt.figure(figsize=(12, 6))\n",
    "sns.ecdfplot(data=df_combined, x='input_length', hue='predicted_sentiment', palette={'positive': 'green', 'neutral': 'blue', 'negative': 'red'})\n",
    "plt.title('ECDF of Input Length by Sentiment')\n",
    "plt.xlabel('Input Length')\n",
    "plt.ylabel('Cumulative Probability')\n",
    "plt.grid(True)\n",
    "plt.show()\n"
   ]
  },
  {
   "cell_type": "markdown",
   "id": "fffa0c67-9f17-4edd-8444-eb3410d099ee",
   "metadata": {},
   "source": [
    "Next, we'll conduct some statistical analyses to formally examine the differences between the sentiment groups."
   ]
  },
  {
   "cell_type": "code",
   "execution_count": 34,
   "id": "a6e60516-a0c8-42f8-bf5d-a92210da0178",
   "metadata": {},
   "outputs": [
    {
     "name": "stdout",
     "output_type": "stream",
     "text": [
      "                          mean   95% CI (mean)  median 95% CI (median)   IQR  \\\n",
      "predicted_sentiment                                                            \n",
      "negative             16.739326  [16.33, 17.14]    15.0  [14.00, 15.00]  13.0   \n",
      "neutral              14.718812  [14.37, 15.07]    13.0  [13.00, 13.00]  11.0   \n",
      "positive             14.569220  [14.33, 14.80]    13.0  [13.00, 13.00]  11.0   \n",
      "\n",
      "                       variance  \n",
      "predicted_sentiment              \n",
      "negative             114.245999  \n",
      "neutral               79.276686  \n",
      "positive              85.038319  \n"
     ]
    },
    {
     "name": "stderr",
     "output_type": "stream",
     "text": [
      "C:\\Users\\the3s\\AppData\\Local\\Temp\\ipykernel_19796\\167734722.py:28: DeprecationWarning: DataFrameGroupBy.apply operated on the grouping columns. This behavior is deprecated, and in a future version of pandas the grouping columns will be excluded from the operation. Either pass `include_groups=False` to exclude the groupings or explicitly select the grouping columns after groupby to silence this warning.\n",
      "  summary_table = df_combined.groupby('predicted_sentiment').apply(descriptive_stats)\n"
     ]
    }
   ],
   "source": [
    "from scipy import stats\n",
    "\n",
    "def descriptive_stats(group):\n",
    "    lengths = group['input_length']\n",
    "    mean = lengths.mean()\n",
    "    median = lengths.median()\n",
    "    iqr = stats.iqr(lengths)\n",
    "    variance = lengths.var()\n",
    "    \n",
    "    # 95% CI for the mean\n",
    "    sem = stats.sem(lengths)\n",
    "    ci_mean = stats.t.interval(0.95, len(lengths)-1, loc=mean, scale=sem)\n",
    "    \n",
    "    # 95% CI for the median (using bootstrapping)\n",
    "    boot_medians = [np.median(np.random.choice(lengths, size=len(lengths), replace=True)) for _ in range(1000)]\n",
    "    ci_median = np.percentile(boot_medians, [2.5, 97.5])\n",
    "    \n",
    "    return pd.Series({\n",
    "        'mean': mean,\n",
    "        '95% CI (mean)': f\"[{ci_mean[0]:.2f}, {ci_mean[1]:.2f}]\",\n",
    "        'median': median,\n",
    "        '95% CI (median)': f\"[{ci_median[0]:.2f}, {ci_median[1]:.2f}]\",\n",
    "        'IQR': iqr,\n",
    "        'variance': variance\n",
    "    })\n",
    "\n",
    "# Group by sentiment and apply\n",
    "summary_table = df_combined.groupby('predicted_sentiment').apply(descriptive_stats)\n",
    "\n",
    "print(summary_table)"
   ]
  },
  {
   "cell_type": "markdown",
   "id": "88ab6039-6df1-4d9a-99f2-22d6a47333b9",
   "metadata": {},
   "source": [
    "## Overview of Review Lengths by Predicted Sentiment\n",
    "\n",
    "- **Negative reviews** tend to be slightly longer on average, with a mean input length of about 16.7 words and a median of 15 words. They also show the greatest variability in length, indicated by the highest variance (114.2) and widest interquartile range (IQR) of 13.\n",
    "\n",
    "- **Neutral and positive reviews** have similar average lengths, with means around 14.7 and 14.6 words respectively, and medians both at 13 words. Their variances and IQRs are also similar and lower than those of negative reviews, indicating less spread in length.\n",
    "\n",
    "- The 95% confidence intervals for both the mean and median overlap between the sentiment groups, suggesting that differences in review length are relatively modest.\n",
    "\n",
    "Overall, negative reviews are on average a bit longer and more variable in length compared to neutral and positive reviews. Now let us look at formal statistical tests for further insight."
   ]
  },
  {
   "cell_type": "markdown",
   "id": "72518ff0-c4c6-44ad-9652-d7d81bbf3cd0",
   "metadata": {},
   "source": [
    "## Kruskal–Wallis H-Test\n",
    "\n",
    "The Kruskal–Wallis test is a non-parametric method used to compare the medians of three or more independent groups without assuming normality.\n",
    "\n",
    "We apply it here to test whether review lengths differ between positive, neutral, and negative sentiment groups. Since the data are skewed and do not meet the normality assumption, the Kruskal–Wallis test is appropriate, as opposed to ANOVA which requires normally distributed groups.\n",
    "The result shows a significant difference (p < 0.05) in review lengths among the sentiment categories, suggesting sentiment relates to review length.\n"
   ]
  },
  {
   "cell_type": "code",
   "execution_count": 36,
   "id": "9598f837-f9eb-4411-9ef2-c3e91ce11271",
   "metadata": {},
   "outputs": [
    {
     "name": "stdout",
     "output_type": "stream",
     "text": [
      "Kruskal–Wallis H-test result:\n",
      "Statistic: 81.3600\n",
      "P-value: 2.1523e-18\n",
      "→ There is a statistically significant difference in input length between at least two sentiment categories.\n"
     ]
    }
   ],
   "source": [
    "from scipy.stats import kruskal\n",
    "\n",
    "# Extract input lengths by sentiment category\n",
    "pos_lengths = df_combined[df_combined['predicted_sentiment'] == 'positive']['input_length']\n",
    "neg_lengths = df_combined[df_combined['predicted_sentiment'] == 'negative']['input_length']\n",
    "neu_lengths = df_combined[df_combined['predicted_sentiment'] == 'neutral']['input_length']\n",
    "\n",
    "# Perform Kruskal–Wallis H test\n",
    "statistic, p_value = kruskal(pos_lengths, neg_lengths, neu_lengths)\n",
    "\n",
    "print(\"Kruskal–Wallis H-test result:\")\n",
    "print(f\"Statistic: {statistic:.4f}\")\n",
    "print(f\"P-value: {p_value:.4e}\")\n",
    "\n",
    "# Optional interpretation\n",
    "if p_value < 0.05:\n",
    "    print(\"→ There is a statistically significant difference in input length between at least two sentiment categories.\")\n",
    "else:\n",
    "    print(\"→ No statistically significant difference in input length between sentiment categories.\")\n"
   ]
  },
  {
   "cell_type": "markdown",
   "id": "72000128-d6be-42db-9933-fd4501a928b5",
   "metadata": {},
   "source": [
    "## Mann-Whitney U Test\n",
    "\n",
    "We will now use the Mann–Whitney U test to perform pairwise comparisons between sentiment groups. Again, this is a non-parametric test (does not assume normality) that helps us identify which specific groups differ significantly in review length. Additionally, we calculate effect sizes to understand the practical significance of these differences, beyond just statistical significance.\n"
   ]
  },
  {
   "cell_type": "code",
   "execution_count": 37,
   "id": "97ded731-e647-44ec-99cf-59ff20f399c2",
   "metadata": {},
   "outputs": [
    {
     "name": "stdout",
     "output_type": "stream",
     "text": [
      "Pairwise Mann–Whitney U Tests and Effect Sizes:\n",
      "\n",
      "Positive vs Negative:\n",
      "  U-statistic = 6922643.00\n",
      "  p-value     = 8.5714e-19\n",
      "  Effect size = 0.1192\n",
      "\n",
      "Positive vs Neutral:\n",
      "  U-statistic = 7313291.00\n",
      "  p-value     = 2.4315e-01\n",
      "  Effect size = 0.0160\n",
      "\n",
      "Negative vs Neutral:\n",
      "  U-statistic = 3721845.00\n",
      "  p-value     = 7.9847e-11\n",
      "  Effect size = -0.1041\n",
      "\n"
     ]
    }
   ],
   "source": [
    "from scipy.stats import mannwhitneyu\n",
    "import itertools\n",
    "\n",
    "# Function to calculate rank-biserial correlation (effect size)\n",
    "def rank_biserial_effect_size(group1, group2):\n",
    "    u_stat, _ = mannwhitneyu(group1, group2, alternative='two-sided')\n",
    "    n1, n2 = len(group1), len(group2)\n",
    "    return 1 - (2 * u_stat) / (n1 * n2)\n",
    "\n",
    "# Prepare data\n",
    "groups = {\n",
    "    'positive': df_combined[df_combined['predicted_sentiment'] == 'positive']['input_length'],\n",
    "    'negative': df_combined[df_combined['predicted_sentiment'] == 'negative']['input_length'],\n",
    "    'neutral':  df_combined[df_combined['predicted_sentiment'] == 'neutral']['input_length']\n",
    "}\n",
    "\n",
    "# Run tests\n",
    "print(\"Pairwise Mann–Whitney U Tests and Effect Sizes:\\n\")\n",
    "for (label1, data1), (label2, data2) in itertools.combinations(groups.items(), 2):\n",
    "    u_stat, p_val = mannwhitneyu(data1, data2, alternative='two-sided')\n",
    "    effect_size = rank_biserial_effect_size(data1, data2)\n",
    "\n",
    "    print(f\"{label1.capitalize()} vs {label2.capitalize()}:\")\n",
    "    print(f\"  U-statistic = {u_stat:.2f}\")\n",
    "    print(f\"  p-value     = {p_val:.4e}\")\n",
    "    print(f\"  Effect size = {effect_size:.4f}\\n\")\n"
   ]
  },
  {
   "cell_type": "markdown",
   "id": "7fc90c2e-1501-4f0e-8faf-ef14e0972aaf",
   "metadata": {},
   "source": [
    "## Results \n",
    "\n",
    "- **Positive vs Negative:**  \n",
    "  The test shows a highly significant difference in review lengths (p < 0.05) with a small effect size (0.12). This indicates that negative reviews tend to be slightly longer than positive ones, but the practical difference is modest.\n",
    "\n",
    "- **Positive vs Neutral:**  \n",
    "  There is no significant difference in review lengths (p = 0.24) and a very small effect size (0.02), suggesting these two groups have similar review lengths.\n",
    "\n",
    "- **Negative vs Neutral:**  \n",
    "  A significant difference is observed (p < 0.05) with a small effect size (-0.10), indicating negative reviews are somewhat longer than neutral reviews, though the difference is again small in practical terms.\n",
    "\n",
    "Overall, while some statistically significant differences exist, the effect sizes suggest that the differences in review length across sentiment categories are generally small."
   ]
  },
  {
   "cell_type": "markdown",
   "id": "4b2e4c70-8889-4852-9c37-b68258025c3b",
   "metadata": {},
   "source": [
    "## Conclusion\n",
    "\n",
    "In this analysis, we began by cleaning the dataset and handling missing sentiment labels by using an API to predict the sentiment for reviews without assigned categories. This allowed us to create a comprehensive dataset with three sentiment groups: positive, neutral, and negative.\n",
    "\n",
    "We then explored the data visually, examining the distribution of review lengths across sentiment categories using histograms, boxplots, and ECDF plots. These visualisations revealed that review lengths are generally similar across sentiments, with negative reviews tending to be slightly longer.\n",
    "\n",
    "To formally test these observations, we conducted statistical analyses suitable for the skewed distribution of review lengths. The Kruskal–Wallis H test showed significant differences in review lengths among the three sentiment groups. Pairwise Mann–Whitney U tests further identified that negative reviews differ significantly in length compared to positive and neutral reviews, although the effect sizes were small, indicating these differences are minor in practical terms.\n",
    "\n",
    "Overall, the combined approach of data cleaning, visualisation, and appropriate non-parametric statistical testing provided a clear understanding of how review length varies with sentiment, confirming subtle but significant variations across categories.\n"
   ]
  },
  {
   "cell_type": "markdown",
   "id": "6e1445dd-86bb-44ed-b49c-b5796bc33747",
   "metadata": {},
   "source": [
    "## Extra Analysis (Generalised Linear Model)\n",
    "\n",
    "As noted earlier, the distribution of review lengths closely resembles a gamma distribution, which motivated fitting a Generalised Linear Model (GLM) with a Gamma family and a log link function. This approach is appropriate for modelling positively skewed data. However, the resulting model showed an extremely low pseudo R-squared value, indicating that sentiment category explains very little of the variation in review length. For this reason, we have not included the GLM results as a primary part of the analysis, but it serves as a useful confirmation that other factors beyond sentiment are likely driving review length variability."
   ]
  },
  {
   "cell_type": "code",
   "execution_count": 35,
   "id": "68c228dc-dc57-42fd-9333-ae8408e58072",
   "metadata": {},
   "outputs": [
    {
     "name": "stdout",
     "output_type": "stream",
     "text": [
      "                 Generalized Linear Model Regression Results                  \n",
      "==============================================================================\n",
      "Dep. Variable:           input_length   No. Observations:                11082\n",
      "Model:                            GLM   Df Residuals:                    11079\n",
      "Model Family:                   Gamma   Df Model:                            2\n",
      "Link Function:                    log   Scale:                         0.39443\n",
      "Method:                          IRLS   Log-Likelihood:                -38715.\n",
      "Date:                Mon, 30 Jun 2025   Deviance:                       4220.3\n",
      "Time:                        17:25:22   Pearson chi2:                 4.37e+03\n",
      "No. Iterations:                     7   Pseudo R-squ. (CS):           0.008750\n",
      "Covariance Type:            nonrobust                                         \n",
      "======================================================================================================\n",
      "                                         coef    std err          z      P>|z|      [0.025      0.975]\n",
      "------------------------------------------------------------------------------------------------------\n",
      "Intercept                              2.8178      0.012    231.832      0.000       2.794       2.842\n",
      "C(predicted_sentiment)[T.neutral]     -0.1286      0.017     -7.378      0.000      -0.163      -0.094\n",
      "C(predicted_sentiment)[T.positive]    -0.1388      0.015     -9.475      0.000      -0.168      -0.110\n",
      "======================================================================================================\n"
     ]
    },
    {
     "name": "stderr",
     "output_type": "stream",
     "text": [
      "C:\\Users\\the3s\\AnacondaInstall\\Lib\\site-packages\\statsmodels\\genmod\\families\\links.py:13: FutureWarning: The log link alias is deprecated. Use Log instead. The log link alias will be removed after the 0.15.0 release.\n",
      "  warnings.warn(\n"
     ]
    }
   ],
   "source": [
    "import statsmodels.api as sm\n",
    "import statsmodels.formula.api as smf\n",
    "\n",
    "# Fit Gamma GLM with log link\n",
    "model = smf.glm(\n",
    "    formula='input_length ~ C(predicted_sentiment)', \n",
    "    data=df_combined, \n",
    "    family=sm.families.Gamma(link=sm.families.links.log())\n",
    ").fit()\n",
    "\n",
    "print(model.summary())"
   ]
  },
  {
   "cell_type": "code",
   "execution_count": null,
   "id": "b98336a9-bc08-4291-bf4c-bd80dc957daa",
   "metadata": {},
   "outputs": [],
   "source": []
  }
 ],
 "metadata": {
  "kernelspec": {
   "display_name": "Python [conda env:base] *",
   "language": "python",
   "name": "conda-base-py"
  },
  "language_info": {
   "codemirror_mode": {
    "name": "ipython",
    "version": 3
   },
   "file_extension": ".py",
   "mimetype": "text/x-python",
   "name": "python",
   "nbconvert_exporter": "python",
   "pygments_lexer": "ipython3",
   "version": "3.12.7"
  }
 },
 "nbformat": 4,
 "nbformat_minor": 5
}
